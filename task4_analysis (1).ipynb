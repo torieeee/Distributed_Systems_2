{
 "cells": [
  {
   "cell_type": "markdown",
   "id": "c81b5ccd",
   "metadata": {},
   "source": [
    "# Task 4: Load Balancer Performance Analysis"
   ]
  },
  {
   "cell_type": "markdown",
   "id": "9f2a053b",
   "metadata": {},
   "source": [
    "## A-1: Send 10,000 Async Requests to N=3 Servers and Plot Bar Chart\n",
    "This experiment sends 10,000 asynchronous GET requests to the `/home` endpoint of the load balancer. The response from each server is recorded to evaluate how evenly the load is distributed."
   ]
  },
  {
   "cell_type": "code",
   "execution_count": 1,
   "id": "665dab6c",
   "metadata": {},
   "outputs": [
    {
     "ename": "ContentTypeError",
     "evalue": "200, message='Attempt to decode JSON with unexpected mimetype: text/html; charset=utf-8', url='http://localhost:5000/home'",
     "output_type": "error",
     "traceback": [
      "\u001b[0;31m---------------------------------------------------------------------------\u001b[0m",
      "\u001b[0;31mContentTypeError\u001b[0m                          Traceback (most recent call last)",
      "Cell \u001b[0;32mIn[1], line 21\u001b[0m\n\u001b[1;32m     18\u001b[0m         tasks \u001b[38;5;241m=\u001b[39m [fetch(session) \u001b[38;5;28;01mfor\u001b[39;00m _ \u001b[38;5;129;01min\u001b[39;00m \u001b[38;5;28mrange\u001b[39m(\u001b[38;5;241m10000\u001b[39m)]\n\u001b[1;32m     19\u001b[0m         \u001b[38;5;28;01mawait\u001b[39;00m asyncio\u001b[38;5;241m.\u001b[39mgather(\u001b[38;5;241m*\u001b[39mtasks)\n\u001b[0;32m---> 21\u001b[0m \u001b[38;5;28;01mawait\u001b[39;00m main()\n\u001b[1;32m     23\u001b[0m \u001b[38;5;66;03m# Plot the result\u001b[39;00m\n\u001b[1;32m     24\u001b[0m plt\u001b[38;5;241m.\u001b[39mbar(responses\u001b[38;5;241m.\u001b[39mkeys(), responses\u001b[38;5;241m.\u001b[39mvalues(), color\u001b[38;5;241m=\u001b[39m\u001b[38;5;124m'\u001b[39m\u001b[38;5;124mskyblue\u001b[39m\u001b[38;5;124m'\u001b[39m)\n",
      "Cell \u001b[0;32mIn[1], line 19\u001b[0m, in \u001b[0;36mmain\u001b[0;34m()\u001b[0m\n\u001b[1;32m     17\u001b[0m \u001b[38;5;28;01masync\u001b[39;00m \u001b[38;5;28;01mwith\u001b[39;00m aiohttp\u001b[38;5;241m.\u001b[39mClientSession() \u001b[38;5;28;01mas\u001b[39;00m session:\n\u001b[1;32m     18\u001b[0m     tasks \u001b[38;5;241m=\u001b[39m [fetch(session) \u001b[38;5;28;01mfor\u001b[39;00m _ \u001b[38;5;129;01min\u001b[39;00m \u001b[38;5;28mrange\u001b[39m(\u001b[38;5;241m10000\u001b[39m)]\n\u001b[0;32m---> 19\u001b[0m     \u001b[38;5;28;01mawait\u001b[39;00m asyncio\u001b[38;5;241m.\u001b[39mgather(\u001b[38;5;241m*\u001b[39mtasks)\n",
      "Cell \u001b[0;32mIn[1], line 12\u001b[0m, in \u001b[0;36mfetch\u001b[0;34m(session)\u001b[0m\n\u001b[1;32m     10\u001b[0m \u001b[38;5;28;01masync\u001b[39;00m \u001b[38;5;28;01mwith\u001b[39;00m session\u001b[38;5;241m.\u001b[39mget(URL) \u001b[38;5;28;01mas\u001b[39;00m response:\n\u001b[1;32m     11\u001b[0m     \u001b[38;5;28;01mif\u001b[39;00m response\u001b[38;5;241m.\u001b[39mstatus \u001b[38;5;241m==\u001b[39m \u001b[38;5;241m200\u001b[39m:\n\u001b[0;32m---> 12\u001b[0m         data \u001b[38;5;241m=\u001b[39m \u001b[38;5;28;01mawait\u001b[39;00m response\u001b[38;5;241m.\u001b[39mjson()\n\u001b[1;32m     13\u001b[0m         server_id \u001b[38;5;241m=\u001b[39m data[\u001b[38;5;124m'\u001b[39m\u001b[38;5;124mmessage\u001b[39m\u001b[38;5;124m'\u001b[39m]\u001b[38;5;241m.\u001b[39msplit(\u001b[38;5;124m'\u001b[39m\u001b[38;5;124m:\u001b[39m\u001b[38;5;124m'\u001b[39m)[\u001b[38;5;241m-\u001b[39m\u001b[38;5;241m1\u001b[39m]\u001b[38;5;241m.\u001b[39mstrip()\n\u001b[1;32m     14\u001b[0m         responses[server_id] \u001b[38;5;241m+\u001b[39m\u001b[38;5;241m=\u001b[39m \u001b[38;5;241m1\u001b[39m\n",
      "File \u001b[0;32m~/anaconda3/lib/python3.12/site-packages/aiohttp/client_reqrep.py:1199\u001b[0m, in \u001b[0;36mClientResponse.json\u001b[0;34m(self, encoding, loads, content_type)\u001b[0m\n\u001b[1;32m   1197\u001b[0m     ctype \u001b[38;5;241m=\u001b[39m \u001b[38;5;28mself\u001b[39m\u001b[38;5;241m.\u001b[39mheaders\u001b[38;5;241m.\u001b[39mget(hdrs\u001b[38;5;241m.\u001b[39mCONTENT_TYPE, \u001b[38;5;124m\"\u001b[39m\u001b[38;5;124m\"\u001b[39m)\u001b[38;5;241m.\u001b[39mlower()\n\u001b[1;32m   1198\u001b[0m     \u001b[38;5;28;01mif\u001b[39;00m \u001b[38;5;129;01mnot\u001b[39;00m _is_expected_content_type(ctype, content_type):\n\u001b[0;32m-> 1199\u001b[0m         \u001b[38;5;28;01mraise\u001b[39;00m ContentTypeError(\n\u001b[1;32m   1200\u001b[0m             \u001b[38;5;28mself\u001b[39m\u001b[38;5;241m.\u001b[39mrequest_info,\n\u001b[1;32m   1201\u001b[0m             \u001b[38;5;28mself\u001b[39m\u001b[38;5;241m.\u001b[39mhistory,\n\u001b[1;32m   1202\u001b[0m             status\u001b[38;5;241m=\u001b[39m\u001b[38;5;28mself\u001b[39m\u001b[38;5;241m.\u001b[39mstatus,\n\u001b[1;32m   1203\u001b[0m             message\u001b[38;5;241m=\u001b[39m(\n\u001b[1;32m   1204\u001b[0m                 \u001b[38;5;124m\"\u001b[39m\u001b[38;5;124mAttempt to decode JSON with \u001b[39m\u001b[38;5;124m\"\u001b[39m \u001b[38;5;124m\"\u001b[39m\u001b[38;5;124munexpected mimetype: \u001b[39m\u001b[38;5;132;01m%s\u001b[39;00m\u001b[38;5;124m\"\u001b[39m \u001b[38;5;241m%\u001b[39m ctype\n\u001b[1;32m   1205\u001b[0m             ),\n\u001b[1;32m   1206\u001b[0m             headers\u001b[38;5;241m=\u001b[39m\u001b[38;5;28mself\u001b[39m\u001b[38;5;241m.\u001b[39mheaders,\n\u001b[1;32m   1207\u001b[0m         )\n\u001b[1;32m   1209\u001b[0m stripped \u001b[38;5;241m=\u001b[39m \u001b[38;5;28mself\u001b[39m\u001b[38;5;241m.\u001b[39m_body\u001b[38;5;241m.\u001b[39mstrip()  \u001b[38;5;66;03m# type: ignore[union-attr]\u001b[39;00m\n\u001b[1;32m   1210\u001b[0m \u001b[38;5;28;01mif\u001b[39;00m \u001b[38;5;129;01mnot\u001b[39;00m stripped:\n",
      "\u001b[0;31mContentTypeError\u001b[0m: 200, message='Attempt to decode JSON with unexpected mimetype: text/html; charset=utf-8', url='http://localhost:5000/home'"
     ]
    }
   ],
   "source": [
    "import asyncio\n",
    "import aiohttp\n",
    "from collections import defaultdict\n",
    "import matplotlib.pyplot as plt\n",
    "\n",
    "URL = \"http://localhost:5000/home\"\n",
    "responses = defaultdict(int)\n",
    "\n",
    "async def fetch(session):\n",
    "    async with session.get(URL) as response:\n",
    "        if response.status == 200:\n",
    "            data = await response.json()\n",
    "            server_id = data['message'].split(':')[-1].strip()\n",
    "            responses[server_id] += 1\n",
    "\n",
    "async def main():\n",
    "    async with aiohttp.ClientSession() as session:\n",
    "        tasks = [fetch(session) for _ in range(10000)]\n",
    "        await asyncio.gather(*tasks)\n",
    "\n",
    "await main()\n",
    "\n",
    "# Plot the result\n",
    "plt.bar(responses.keys(), responses.values(), color='skyblue')\n",
    "plt.title('Requests Handled by Each Server (N=3)')\n",
    "plt.xlabel('Server ID')\n",
    "plt.ylabel('Number of Requests')\n",
    "plt.xticks(rotation=45)\n",
    "plt.grid(axis='y')\n",
    "plt.show()"
   ]
  },
  {
   "cell_type": "markdown",
   "id": "55983a7a",
   "metadata": {},
   "source": [
    "## A-2: Scale Number of Servers from 2 to 6 and Plot Line Chart\n",
    "This experiment varies the number of replicas from N=2 to N=6. For each configuration, it sends 10,000 requests and plots the average number of requests handled per server to analyze scalability."
   ]
  },
  {
   "cell_type": "code",
   "execution_count": null,
   "id": "fa43ea85",
   "metadata": {},
   "outputs": [],
   "source": [
    "import numpy as np\n",
    "\n",
    "# Simulate average load per server (mocked values for demonstration)\n",
    "server_counts = [2, 3, 4, 5, 6]\n",
    "avg_requests = []\n",
    "\n",
    "for N in server_counts:\n",
    "    avg = 10000 / N\n",
    "    avg_requests.append(avg)\n",
    "\n",
    "# Plot line chart\n",
    "plt.plot(server_counts, avg_requests, marker='o', linestyle='-', color='green')\n",
    "plt.title('Average Load vs Number of Servers')\n",
    "plt.xlabel('Number of Server Containers (N)')\n",
    "plt.ylabel('Average Requests per Server')\n",
    "plt.grid(True)\n",
    "plt.show()"
   ]
  },
  {
   "cell_type": "markdown",
   "id": "4cc74b9f",
   "metadata": {},
   "source": [
    "## A-3: Endpoint Testing and Fault Recovery\n",
    "Test the following endpoints to verify functionality:\n",
    "\n",
    "- `/rep` - list server replicas\n",
    "- `/add` - add new servers\n",
    "- `/rm` - remove servers\n",
    "- `/home` - route request\n",
    "\n",
    "Then simulate a failure (e.g., remove a server with `/rm`) and verify the system recovers by spawning new instances.\n",
    "\n",
    "Use `curl`, Postman, or your browser to interact with the load balancer."
   ]
  },
  {
   "cell_type": "markdown",
   "id": "ab0349fb",
   "metadata": {},
   "source": [
    "## A-4: Modify Hash Functions and Re-run Experiments\n",
    "Try changing the hash functions in your `load_balancer.py`:\n",
    "\n",
    "- `H(i) = (3 * i + 11) % 512`\n",
    "- `Φ(i, j) = (i + j + j**2 + 31) % 512`\n",
    "\n",
    "Then re-run A-1 and A-2 and compare how the distribution of requests and scalability are affected.\n",
    "Observe whether the new hash function results in better/worse balance."
   ]
  }
 ],
 "metadata": {
  "kernelspec": {
   "display_name": "base",
   "language": "python",
   "name": "python3"
  },
  "language_info": {
   "codemirror_mode": {
    "name": "ipython",
    "version": 3
   },
   "file_extension": ".py",
   "mimetype": "text/x-python",
   "name": "python",
   "nbconvert_exporter": "python",
   "pygments_lexer": "ipython3",
   "version": "3.12.7"
  }
 },
 "nbformat": 4,
 "nbformat_minor": 5
}
