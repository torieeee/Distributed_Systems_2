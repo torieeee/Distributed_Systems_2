{
 "cells": [
  {
   "cell_type": "markdown",
   "id": "7590e3ba",
   "metadata": {},
   "source": [
    "# Task 4: Load Balancer Performance Analysis"
   ]
  },
  {
   "cell_type": "markdown",
   "id": "414d14ba",
   "metadata": {},
   "source": [
    "## A-1: Send 10,000 Async Requests to N=3 Servers and Plot Bar Chart"
   ]
  },
  {
   "cell_type": "code",
   "execution_count": null,
   "id": "2ed3a790",
   "metadata": {},
   "outputs": [],
   "source": [
    "import asyncio\n",
    "import aiohttp\n",
    "from collections import defaultdict\n",
    "import matplotlib.pyplot as plt"
   ]
  },
  {
   "cell_type": "code",
   "execution_count": null,
   "id": "406acb7c",
   "metadata": {},
   "outputs": [],
   "source": [
    "URL = \"http://localhost:5000/home\"\n",
    "responses = defaultdict(int)\n",
    "async def fetch(session):\n",
    "\tasync with session.get(URL) as response:\n",
    "\t\tif response.status == 200:\n",
    "\t\t\t\tdata = await response.json()\n",
    "\t\t\t\tserver_id = data['message'].split(':')[-1].strip()\n",
    "\t\t\t\tresponses[server_id] += 1\n",
    "\n",
    "\t\tasync def main():\n",
    "\t\t\tasync with aiohttp.ClientSession() as session:\n",
    "\t\t\t\ttasks = [fetch(session) for _ in range(10000)]\n",
    "\t\t\t\tawait asyncio.gather(*tasks)\n",
    "\t\t\tawait main()\n",
    "\t\t# Plot\n",
    "\t\tplt.bar(responses.keys(), responses.values(), color='skyblue')\n",
    "\t\tplt.title('Requests Handled by Each Server (N=3)')\n",
    "\t\tplt.xlabel('Server ID')\n",
    "\t\tplt.ylabel('Number of Requests')\n",
    "\t\tplt.show()"
   ]
  },
  {
   "cell_type": "markdown",
   "id": "6814cd7f",
   "metadata": {},
   "source": [
    "## You can replicate A-2 by looping through N from 2 to 6 and running similar logic."
   ]
  },
  {
   "cell_type": "markdown",
   "id": "5f95c221",
   "metadata": {},
   "source": [
    "# For A-4, change the hash functions in your load balancer and re-run this notebook."
   ]
  },
  {
   "cell_type": "markdown",
   "id": "2b3ef5e1",
   "metadata": {},
   "source": []
  },
  {
   "cell_type": "code",
   "execution_count": null,
   "id": "764d7a15",
   "metadata": {},
   "outputs": [],
   "source": []
  }
 ],
 "metadata": {
  "kernelspec": {
   "display_name": "base",
   "language": "python",
   "name": "python3"
  },
  "language_info": {
   "name": "python",
   "version": "3.12.7"
  }
 },
 "nbformat": 4,
 "nbformat_minor": 5
}
