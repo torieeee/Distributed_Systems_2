{
 "cells": [
  {
   "cell_type": "markdown",
   "metadata": {},
   "source": [
    "# Task 4: Load Balancer Performance Analysis"
   ]
  },
  {
   "cell_type": "markdown",
   "metadata": {},
   "source": [
    "## A-1: Send 10,000 Async Requests to N=3 Servers and Plot Bar Chart"
   ]
  },
  {
   "cell_type": "code",
   "execution_count": null,
   "metadata": {},
   "outputs": [],
   "source": [
    "import asyncio
",
    "import aiohttp
",
    "from collections import defaultdict
",
    "import matplotlib.pyplot as plt
",
    "
",
    "URL = "http://localhost:5000/home"
",
    "responses = defaultdict(int)
",
    "
",
    "async def fetch(session):
",
    "    async with session.get(URL) as response:
",
    "        if response.status == 200:
",
    "            data = await response.json()
",
    "            server_id = data['message'].split(':')[-1].strip()
",
    "            responses[server_id] += 1
",
    "
",
    "async def main():
",
    "    async with aiohttp.ClientSession() as session:
",
    "        tasks = [fetch(session) for _ in range(10000)]
",
    "        await asyncio.gather(*tasks)
",
    "
",
    "await main()
",
    "
",
    "# Plot
",
    "plt.bar(responses.keys(), responses.values(), color='skyblue')
",
    "plt.title('Requests Handled by Each Server (N=3)')
",
    "plt.xlabel('Server ID')
",
    "plt.ylabel('Number of Requests')
",
    "plt.show()"
   ]
  },
  {
   "cell_type": "markdown",
   "metadata": {},
   "source": [
    "## You can replicate A-2 by looping through N from 2 to 6 and running similar logic.
",
    "## For A-4, change the hash functions in your load balancer and re-run this notebook."
   ]
  }
 ],
 "metadata": {
  "kernelspec": {
   "display_name": "Python 3",
   "language": "python",
   "name": "python3"
  },
  "language_info": {
   "name": "python",
   "version": "3.9"
  }
 },
 "nbformat": 4,
 "nbformat_minor": 5
}